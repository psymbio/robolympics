{
 "cells": [
  {
   "cell_type": "code",
   "execution_count": 1,
   "id": "5673327f",
   "metadata": {},
   "outputs": [
    {
     "ename": "SyntaxError",
     "evalue": "invalid syntax (<ipython-input-1-1cc592c4c099>, line 1)",
     "output_type": "error",
     "traceback": [
      "\u001b[0;36m  File \u001b[0;32m\"<ipython-input-1-1cc592c4c099>\"\u001b[0;36m, line \u001b[0;32m1\u001b[0m\n\u001b[0;31m    a = {'root': <pybullet_envs2.robot_bases.BodyPart object at 0x7faaf08ec730>, 17: <pybullet_envs2.robot_bases.BodyPart object at 0x7faaf08ec910>, 'chest': <pybullet_envs2.robot_bases.BodyPart object at 0x7faaf08e21c0>, 'neck': <pybullet_envs2.robot_bases.BodyPart object at 0x7faaf08ec7f0>, 'right_shoulder': <pybullet_envs2.robot_bases.BodyPart object at 0x7faaf08ecee0>, 'right_elbow': <pybullet_envs2.robot_bases.BodyPart object at 0x7faaf08ecfd0>, 'right_wrist': <pybullet_envs2.robot_bases.BodyPart object at 0x7faaf08ecd90>, 'left_shoulder': <pybullet_envs2.robot_bases.BodyPart object at 0x7faaf08ecac0>, 'left_elbow': <pybullet_envs2.robot_bases.BodyPart object at 0x7faaf08eca00>, 'left_wrist': <pybullet_envs2.robot_bases.BodyPart object at 0x7faaf08ec8b0>, 'right_hip': <pybullet_envs2.robot_bases.BodyPart object at 0x7faaf08ec7c0>, 'right_knee': <pybullet_envs2.robot_bases.BodyPart object at 0x7faaf08f6610>, 'right_ankle': <pybullet_envs2.robot_bases.BodyPart object at 0x7faaf08f65b0>, 'left_hip': <pybullet_envs2.robot_bases.BodyPart object at 0x7faaf08f6430>, 'left_knee': <pybullet_envs2.robot_bases.BodyPart object at 0x7faaf08f6340>, 'left_ankle': <pybullet_envs2.robot_bases.BodyPart object at 0x7faaf08f6220>}\u001b[0m\n\u001b[0m                 ^\u001b[0m\n\u001b[0;31mSyntaxError\u001b[0m\u001b[0;31m:\u001b[0m invalid syntax\n"
     ]
    }
   ],
   "source": []
  },
  {
   "cell_type": "code",
   "execution_count": null,
   "id": "68f78cb4",
   "metadata": {},
   "outputs": [],
   "source": []
  }
 ],
 "metadata": {
  "kernelspec": {
   "display_name": "Python 3",
   "language": "python",
   "name": "python3"
  },
  "language_info": {
   "codemirror_mode": {
    "name": "ipython",
    "version": 3
   },
   "file_extension": ".py",
   "mimetype": "text/x-python",
   "name": "python",
   "nbconvert_exporter": "python",
   "pygments_lexer": "ipython3",
   "version": "3.9.2"
  }
 },
 "nbformat": 4,
 "nbformat_minor": 5
}
