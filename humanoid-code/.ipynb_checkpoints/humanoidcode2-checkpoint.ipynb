{
 "cells": [
  {
   "cell_type": "code",
   "execution_count": 2,
   "id": "17f6ccef",
   "metadata": {},
   "outputs": [],
   "source": [
    "# Imports\n",
    "import os\n",
    "import shutil\n",
    "import matplotlib\n",
    "import pybullet_envs2\n",
    "\n",
    "from acme.utils import loggers\n",
    "from acme.tf import networks\n",
    "from acme.tf import utils as tf2_utils\n",
    "from acme.agents.tf.d4pg import D4PG\n",
    "from acme.agents.tf.ddpg import DDPG\n",
    "from acme.agents.tf.dmpo import DistributionalMPO\n",
    "from acme import wrappers, specs, environment_loop\n",
    "\n",
    "import numpy as np\n",
    "import sonnet as snt\n",
    "import matplotlib.pyplot as plt\n",
    "import matplotlib.animation as animation\n",
    "\n",
    "# from google.colab import drive\n",
    "from IPython.display import HTML\n",
    "\n",
    "\n",
    "\n",
    "import pybullet_data\n",
    "from pybullet_envs.scene_abstract import Scene\n",
    "import pybullet"
   ]
  },
  {
   "cell_type": "code",
   "execution_count": 3,
   "id": "470b339e",
   "metadata": {},
   "outputs": [],
   "source": [
    "class StadiumScene2(Scene):\n",
    "  # adding the actual stadium here\n",
    "  zero_at_running_strip_start_line = True  # if False, center of coordinates (0,0,0) will be at the middle of the stadium\n",
    "  stadium_halflen = 105 * 0.25  # FOOBALL_FIELD_HALFLEN\n",
    "  stadium_halfwidth = 50 * 0.25  # FOOBALL_FIELD_HALFWID\n",
    "  stadiumLoaded = 0\n",
    "\n",
    "  def episode_restart(self, bullet_client):\n",
    "    self._p = bullet_client\n",
    "    Scene.episode_restart(self, bullet_client)  # contains cpp_world.clean_everything()\n",
    "    if (self.stadiumLoaded == 0):\n",
    "      self.stadiumLoaded = 1\n",
    "\n",
    "      # stadium_pose = cpp_household.Pose()\n",
    "      # if self.zero_at_running_strip_start_line:\n",
    "      #\t stadium_pose.set_xyz(27, 21, 0)  # see RUN_STARTLINE, RUN_RAD constants\n",
    "\n",
    "      filename = os.path.join(pybullet_data.getDataPath(), \"stadium.sdf\")\n",
    "      self.ground_plane_mjcf = self._p.loadSDF(filename)\n",
    "      #filename = os.path.join(pybullet_data.getDataPath(),\"stadium_no_collision.sdf\")\n",
    "      #self.ground_plane_mjcf = self._p.loadSDF(filename)\n",
    "      #\n",
    "      for i in self.ground_plane_mjcf:\n",
    "        self._p.changeDynamics(i, -1, lateralFriction=0.8, restitution=0.5)\n",
    "        self._p.changeVisualShape(i, -1, rgbaColor=[1, 1, 1, 0.8])\n",
    "        self._p.configureDebugVisualizer(pybullet.COV_ENABLE_PLANAR_REFLECTION,i)\n"
   ]
  },
  {
   "cell_type": "code",
   "execution_count": null,
   "id": "a5755955",
   "metadata": {},
   "outputs": [],
   "source": [
    "class SinglePlayerStadiumScene2(StadiumScene2):\n",
    "  \"This scene created by environment, to work in a way as if there was no concept of scene visible to user.\"\n",
    "  multiplayer = False\n",
    "\n",
    "\n",
    "class MultiplayerStadiumScene2(StadiumScene2):\n",
    "  multiplayer = True\n",
    "  players_count = 3\n",
    "\n",
    "  def actor_introduce(self, robot):\n",
    "    StadiumScene.actor_introduce(self, robot)\n",
    "    i = robot.player_n - 1  # 0 1 2 => -1 0 +1\n",
    "    robot.move_robot(0, i, 0)\n"
   ]
  }
 ],
 "metadata": {
  "kernelspec": {
   "display_name": "Python 3",
   "language": "python",
   "name": "python3"
  },
  "language_info": {
   "codemirror_mode": {
    "name": "ipython",
    "version": 3
   },
   "file_extension": ".py",
   "mimetype": "text/x-python",
   "name": "python",
   "nbconvert_exporter": "python",
   "pygments_lexer": "ipython3",
   "version": "3.9.2"
  }
 },
 "nbformat": 4,
 "nbformat_minor": 5
}
