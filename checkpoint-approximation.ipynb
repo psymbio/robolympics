{
 "cells": [
  {
   "cell_type": "code",
   "execution_count": 1,
   "id": "f611b7fc",
   "metadata": {},
   "outputs": [],
   "source": [
    "import numpy as np\n",
    "checkpoints_stadium = np.array([[36.90058899,  -3.27299237],\n",
    "       [ 29.98545074, -15.73727989],\n",
    "       [ 25.98292923,  19.71592522],\n",
    "       [ 36.00297928,   7.93183422],\n",
    "       [-36.00297928,  -6.91670513],\n",
    "       [-28.69959831,  17.92435074],\n",
    "       [-34.2795639 ,  11.62551594],\n",
    "       [ 37.12164688,   2.41725087],\n",
    "       [-32.95801163, -12.49569416],\n",
    "       [-36.90058899,   4.28812122],\n",
    "       [ 35.49053192,  -7.93686962],\n",
    "       [ 26.26033592, -18.4656353 ],\n",
    "       [-17.51765633,  22.4084053 ],\n",
    "       [ 33.36088181, -11.92537308],\n",
    "       [-23.28717995,  20.93785286],\n",
    "       [-37.12164688,  -1.40212178],\n",
    "       [ 24.69773293, -19.26901054],\n",
    "       [ 30.10389709,  16.65581703],\n",
    "       [-28.98753738, -16.69599724],\n",
    "       [ 32.958004  ,  13.51084328],\n",
    "       [-24.59379959, -19.27071381],\n",
    "       [ 18.29857635,  22.3815155 ],\n",
    "       [ 17.46794701, -21.23395348],\n",
    "       [-20.45232391, -20.74229622],\n",
    "       [-17.62427711, -21.17273331],\n",
    "       [ 23.09788132, -19.88587952],\n",
    "       [-16.22319412, -21.3013134 ],\n",
    "       [-26.827631  , -21.17273331]])"
   ]
  },
  {
   "cell_type": "code",
   "execution_count": 20,
   "id": "22d3a777",
   "metadata": {},
   "outputs": [],
   "source": [
    "point = [17, -24]\n",
    "min_dist = 4\n",
    "min1 = 10000\n",
    "min2 = 10000\n",
    "min3 = 10000\n",
    "out = []\n",
    "for checkpoint in checkpoints_stadium:\n",
    "    if (abs((checkpoint[0] - point[0])**2 + (checkpoint[1] - point[1])**2) < min3):\n",
    "        out = [checkpoint[0], checkpoint[1]]\n",
    "        min3 = (checkpoint[0] - point[0])**2 + (checkpoint[1] - point[1])**2"
   ]
  },
  {
   "cell_type": "code",
   "execution_count": 21,
   "id": "6ec796fd",
   "metadata": {},
   "outputs": [
    {
     "data": {
      "text/plain": [
       "[17.46794701, -21.23395348]"
      ]
     },
     "execution_count": 21,
     "metadata": {},
     "output_type": "execute_result"
    }
   ],
   "source": [
    "out"
   ]
  },
  {
   "cell_type": "code",
   "execution_count": null,
   "id": "803b1244",
   "metadata": {},
   "outputs": [],
   "source": []
  }
 ],
 "metadata": {
  "kernelspec": {
   "display_name": "Python 3",
   "language": "python",
   "name": "python3"
  },
  "language_info": {
   "codemirror_mode": {
    "name": "ipython",
    "version": 3
   },
   "file_extension": ".py",
   "mimetype": "text/x-python",
   "name": "python",
   "nbconvert_exporter": "python",
   "pygments_lexer": "ipython3",
   "version": "3.9.2"
  }
 },
 "nbformat": 4,
 "nbformat_minor": 5
}
